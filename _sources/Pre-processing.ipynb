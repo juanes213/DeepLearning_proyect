{
 "cells": [
  {
   "cell_type": "markdown",
   "metadata": {},
   "source": [
    "## Birds species detection using TensorFlow Object Detection API\n",
    "The Faster R-CNN model will be used in this project to train datasets to categorise bird species based on images provided by our professor Dr. Carl Chalmers.\n",
    "Furthermore, a comparison with the SSD Mobilenet model will be made to assess how this model compares. "
   ]
  },
  {
   "cell_type": "markdown",
   "metadata": {},
   "source": [
    "## The Data\n",
    "The images of bird species provided by our lecturer, Dr. Carl Chalmers, will serve as the input dataset for our project. In total, our professor provided us with approximately 4000 images of four different bird species, from which we were required to tag three unique bird classes with a minimum of 500 tags each class. <br>\n",
    "*All Bird Species*:\n",
    "- Erithacus_Rubecula\n",
    "- Periparus_ater\n",
    "- Pica_pica\n",
    "- Turdus_merula\n",
    "\n",
    "*Selected Bird Species*:\n",
    "- Erithacus_Rubecula\n",
    "- Periparus_ater\n",
    "- Pica_pica\n",
    "\n",
    "Because of the differences within these species, I've chosen the three bird species mentioned above to implement my model. The colour of *Erithacus Rubecula* was distinct from the others, while *Pica pica* had a long tail that will aid in identification, and finally *Periparus ater* was similar to Pica pica but with different shades and a shorter tail. These differences will really help my model to train properly. For these reasons, I decided to choose these 3 bird species for my input.<br>\n",
    "For the model, a total of 2402 photos were tagged with RenomTag. There were 801 images tagged with *Erithacus Rubecula*, 801 images with *Periparus ater*, and 801 images with *Pica pica*. Also, the tags are in the pascal VOC format.  "
   ]
  },
  {
   "cell_type": "markdown",
   "metadata": {},
   "source": [
    "# Pre-processing"
   ]
  },
  {
   "cell_type": "markdown",
   "metadata": {},
   "source": [
    "## Importing Libraries\n",
    "Let's start by importing libraries that we are going to use!"
   ]
  },
  {
   "cell_type": "code",
   "execution_count": 1,
   "metadata": {},
   "outputs": [],
   "source": [
    "import os\n",
    "import numpy as np\n",
    "from matplotlib.pyplot import imread\n",
    "%matplotlib inline"
   ]
  },
  {
   "cell_type": "markdown",
   "metadata": {},
   "source": [
    "The code below is used to locate images that do not include tags in the xml or pascal VOC formats.\n",
    "The *splittext* function, which is part of the *os* package, helps in splitting the path name into two parts: root and extension.<br>\n",
    "\n",
    "Output that came is the folder name only, that means our all images are tagged."
   ]
  },
  {
   "cell_type": "code",
   "execution_count": 2,
   "metadata": {},
   "outputs": [
    {
     "name": "stdout",
     "output_type": "stream",
     "text": [
      "test\n",
      "cleaned\n",
      "train\n"
     ]
    }
   ],
   "source": [
    "dim1 = []\n",
    "dim2 = []\n",
    "for image_filename in os.listdir('./images'):\n",
    "    name, ext = os.path.splitext(image_filename)\n",
    "    try:\n",
    "        if not ext == '.xml':\n",
    "            img = imread('./images/'+image_filename)\n",
    "            d1,d2,color = img.shape\n",
    "            dim1.append(d1)\n",
    "            dim2.append(d2)\n",
    "    except:\n",
    "        print(image_filename)\n",
    "        continue"
   ]
  },
  {
   "cell_type": "markdown",
   "metadata": {},
   "source": [
    "**Checking the mean value of dim1**"
   ]
  },
  {
   "cell_type": "code",
   "execution_count": 3,
   "metadata": {},
   "outputs": [
    {
     "data": {
      "text/plain": [
       "789.1639617145236"
      ]
     },
     "execution_count": 3,
     "metadata": {},
     "output_type": "execute_result"
    }
   ],
   "source": [
    "np.mean(dim1)"
   ]
  },
  {
   "cell_type": "markdown",
   "metadata": {},
   "source": [
    "Printing the maximum and the minimum value of dim1"
   ]
  },
  {
   "cell_type": "code",
   "execution_count": 4,
   "metadata": {},
   "outputs": [
    {
     "name": "stdout",
     "output_type": "stream",
     "text": [
      "Minimum: 142\n",
      "Maximum: 1024\n"
     ]
    }
   ],
   "source": [
    "print('Minimum:', np.min(dim1))\n",
    "print('Maximum:', np.max(dim1))"
   ]
  },
  {
   "cell_type": "markdown",
   "metadata": {},
   "source": [
    "**Checking the mean value of dim2**"
   ]
  },
  {
   "cell_type": "code",
   "execution_count": 5,
   "metadata": {},
   "outputs": [
    {
     "data": {
      "text/plain": [
       "938.9546400332918"
      ]
     },
     "execution_count": 5,
     "metadata": {},
     "output_type": "execute_result"
    }
   ],
   "source": [
    "np.mean(dim2)"
   ]
  },
  {
   "cell_type": "markdown",
   "metadata": {},
   "source": [
    "Printing the maximum and the minimum value of dim1"
   ]
  },
  {
   "cell_type": "code",
   "execution_count": 6,
   "metadata": {},
   "outputs": [
    {
     "name": "stdout",
     "output_type": "stream",
     "text": [
      "Minimum: 140\n",
      "Maximum: 1024\n"
     ]
    }
   ],
   "source": [
    "print('Minimum:', np.min(dim2))\n",
    "print('Maximum:', np.max(dim2))"
   ]
  }
 ],
 "metadata": {
  "kernelspec": {
   "display_name": "Python 3",
   "language": "python",
   "name": "python3"
  },
  "language_info": {
   "codemirror_mode": {
    "name": "ipython",
    "version": 3
   },
   "file_extension": ".py",
   "mimetype": "text/x-python",
   "name": "python",
   "nbconvert_exporter": "python",
   "pygments_lexer": "ipython3",
   "version": "3.7.9"
  }
 },
 "nbformat": 4,
 "nbformat_minor": 5
}
